{
 "cells": [
  {
   "cell_type": "code",
   "execution_count": null,
   "id": "49cdfe91-6da8-4628-bbfc-c124983b7710",
   "metadata": {},
   "outputs": [],
   "source": [
    "1. Explain what inheritance is in object-oriented programming and why it is used. \n",
    "Inheritance is used in OOP for a variety of reasons, including:\n",
    "Code reuse: \n",
    "Inheritance allows us to reuse code that has already been written. \n",
    "This can save us time and effort when developing new classes.\n",
    "Polymorphism: \n",
    "Inheritance allows us to create different types of objects that share some common properties. \n",
    "This can make our code more flexible and adaptable.\n",
    "Abstraction: \n",
    "Inheritance allows us to hide the implementation details of a class from its users. \n",
    "This can make our code more modular and easier to understand."
   ]
  },
  {
   "cell_type": "code",
   "execution_count": null,
   "id": "946d9e84-4b87-40e8-9f5b-970d9891ad43",
   "metadata": {},
   "outputs": [],
   "source": []
  },
  {
   "cell_type": "markdown",
   "id": "6c22ee35-c6d0-442c-88d5-911f78680696",
   "metadata": {},
   "source": [
    "2. Discuss the concept of single inheritance and multiple inheritance, highlighting their differences and advantages. \n",
    "Single inheritance and multiple inheritance are two different ways of organizing classes in object-oriented programming (OOP).\n",
    "\n",
    "Single inheritance is when a class inherits from only one other class. This means that the subclass inherits all of the attributes and methods of the superclass.\n",
    "\n",
    "Multiple inheritance is when a class inherits from multiple other classes. This means that the subclass inherits all of the attributes and methods of all of the superclasses.\n",
    "\n",
    "There are some key differences between single inheritance and multiple inheritance.\n",
    "\n",
    "Single inheritance is simpler to understand and implement. There is only one superclass, so it is easier to keep track of the hierarchy of classes.\n",
    "Multiple inheritance can be more flexible and adaptable. The subclass can inherit different attributes and methods from different superclasses. This can be useful for creating more specialized classes."
   ]
  },
  {
   "cell_type": "markdown",
   "id": "dd8bc8b1-53c3-4e40-963c-bd1c25660061",
   "metadata": {},
   "source": [
    "3. Explain the terms \"base class\" and \"derived class\" in the context of inheritance.\n",
    "Base class\t- The class that is being inherited from.\n",
    "Derived class  - The class that is inheriting from the base class.\n",
    "For example, let's say we have a Car class that is the base class. We can then create a SportsCar class that inherits from the Car class. The SportsCar class is the derived class."
   ]
  },
  {
   "cell_type": "markdown",
   "id": "401f127b-6d74-4d4e-9843-d0d7d162008c",
   "metadata": {},
   "source": [
    "4. What is the significance of the \"protected\" access modifier in inheritance? How does it differ from \"private\" and \"public\" modifiers? \n",
    "In OOPs, access modifiers are used to control the visibility of attributes and methods within a class. The three main access modifiers are:\n",
    "Private:  Only accessible to the class in which it is declared.\n",
    "Protected:  Accessible to the class in which it is declared, and to subclasses of that class.\n",
    "Public: The public access modifier makes an attribute or method accessible to any class."
   ]
  },
  {
   "cell_type": "code",
   "execution_count": 2,
   "id": "69bf53e7-5bf6-4d4a-9102-ee29ec8d1c97",
   "metadata": {},
   "outputs": [
    {
     "name": "stdout",
     "output_type": "stream",
     "text": [
      "This car is a Honda Civic from 2023\n",
      "This car is a Porsche 911 from 2023 It has a top speed of 200 mph\n"
     ]
    }
   ],
   "source": [
    "\"\"\"5. What is the purpose of the \"super\" keyword in inheritance? Provide an example. \n",
    "the super keyword is used to access the methods and attributes of the superclass. \n",
    "This can be useful for overriding methods in the subclass, or for sharing common functionality between classes.\n",
    "The super keyword is a special keyword that is only available in classes that inherit from other classes. \n",
    "It cannot be used in standalone classes.\"\"\"\n",
    "class Car:\n",
    "    def __init__(self, make, model, year):\n",
    "        self.make = make\n",
    "        self.model = model\n",
    "        self.year = year\n",
    "\n",
    "    def get_info(self):\n",
    "        return \"This car is a {} {} from {}\".format(self.make, self.model, self.year)\n",
    "\n",
    "\n",
    "class SportsCar(Car):\n",
    "    def __init__(self, make, model, year, top_speed):\n",
    "        super().__init__(make, model, year)\n",
    "        self.top_speed = top_speed\n",
    "\n",
    "    def get_info(self):\n",
    "        info = super().get_info()\n",
    "        info += \" It has a top speed of {} mph\".format(self.top_speed)\n",
    "        return info\n",
    "\n",
    "\n",
    "car = Car(\"Honda\", \"Civic\", 2023)\n",
    "print(car.get_info())\n",
    "\n",
    "sports_car = SportsCar(\"Porsche\", \"911\", 2023, 200)\n",
    "print(sports_car.get_info())"
   ]
  },
  {
   "cell_type": "code",
   "execution_count": 6,
   "id": "22233229-c3ee-4551-baa6-7789d206bd38",
   "metadata": {},
   "outputs": [
    {
     "name": "stdout",
     "output_type": "stream",
     "text": [
      "This vehicle is a SUZUKI Ciaz from 2023 It runs on gasoline fuel.\n"
     ]
    }
   ],
   "source": [
    "#6. Create a base class called \"Vehicle\" with attributes like \"make\", \"model\", and \"year\". Then, create a derived class called \"Car\" that inherits from \"Vehicle\" and adds an attribute called \"fuel_type\". Implement appropriate methods in both classes. \n",
    "class Vehicle:\n",
    "    def __init__(self, make, model, year):\n",
    "        self.make = make\n",
    "        self.model = model\n",
    "        self.year = year\n",
    "\n",
    "    def get_info(self):\n",
    "        return \"This vehicle is a {} {} from {}\".format(self.make, self.model, self.year)\n",
    "\n",
    "\n",
    "class Car(Vehicle):\n",
    "    def __init__(self, make, model, year, fuel_type):\n",
    "        super().__init__(make, model, year)\n",
    "        self.fuel_type = fuel_type\n",
    "\n",
    "    def get_info(self):\n",
    "        info = super().get_info()\n",
    "        info += \" It runs on {} fuel.\".format(self.fuel_type)\n",
    "        return info\n",
    "\n",
    "\n",
    "car = Car(\"SUZUKI\", \"Ciaz\", 2023, \"gasoline\")\n",
    "print(car.get_info())\n"
   ]
  },
  {
   "cell_type": "code",
   "execution_count": 7,
   "id": "0b203899-eea8-4115-b055-f400b5ba6a47",
   "metadata": {},
   "outputs": [
    {
     "name": "stdout",
     "output_type": "stream",
     "text": [
      "This employee is named Sant K and earns 100000. They work in the Engineering department.\n",
      "This employee is named KRISH and earns 50000. They code in Python.\n"
     ]
    }
   ],
   "source": [
    "# 7. Create a base class called \"Employee\" with attributes like \"name\" and \"salary.\" Derive two classes, \"Manager\" and \"Developer,\" from \"Employee.\" Add an additional attribute called \"department\" for the \"Manager\" class and \"programming_language\" for the \"Developer\" class. class Employee:\n",
    "class Employee:\n",
    "    def __init__(self, name, salary):\n",
    "        self.name = name\n",
    "        self.salary = salary\n",
    "\n",
    "    def get_info(self):\n",
    "        return \"This employee is named {} and earns {}.\".format(self.name, self.salary)\n",
    "\n",
    "\n",
    "class Manager(Employee):\n",
    "    def __init__(self, name, salary, department):\n",
    "        super().__init__(name, salary)\n",
    "        self.department = department\n",
    "\n",
    "    def get_info(self):\n",
    "        info = super().get_info()\n",
    "        info += \" They work in the {} department.\".format(self.department)\n",
    "        return info\n",
    "\n",
    "\n",
    "class Developer(Employee):\n",
    "    def __init__(self, name, salary, programming_language):\n",
    "        super().__init__(name, salary)\n",
    "        self.programming_language = programming_language\n",
    "\n",
    "    def get_info(self):\n",
    "        info = super().get_info()\n",
    "        info += \" They code in {}.\".format(self.programming_language)\n",
    "        return info\n",
    "\n",
    "\n",
    "manager = Manager(\"Sant K\", 100000, \"Engineering\")\n",
    "print(manager.get_info())\n",
    "\n",
    "developer = Developer(\"KRISH\", 50000, \"Python\")\n",
    "print(developer.get_info())\n"
   ]
  },
  {
   "cell_type": "code",
   "execution_count": 8,
   "id": "6cd70c2f-7ba2-43a2-89ee-5db1570142b0",
   "metadata": {},
   "outputs": [
    {
     "name": "stdout",
     "output_type": "stream",
     "text": [
      "This shape is red with a border width of 2. It has a length of 10 and a width of 5.\n",
      "This shape is blue with a border width of 1. It has a radius of 10.\n"
     ]
    }
   ],
   "source": [
    "# 8. Design a base class called \"Shape\" with attributes like \"colour\" and \"border_width.\" Create derived classes, \"Rectangle\" and \"Circle,\" that inherit from \"Shape\" and add specific attributes like \"length\" and \"width\" for the \"Rectangle\" class and \"radius\" for the \"Circle\" class. \n",
    "class Shape:\n",
    "    def __init__(self, colour, border_width):\n",
    "        self.colour = colour\n",
    "        self.border_width = border_width\n",
    "\n",
    "    def get_info(self):\n",
    "        return \"This shape is {} with a border width of {}.\".format(self.colour, self.border_width)\n",
    "\n",
    "\n",
    "class Rectangle(Shape):\n",
    "    def __init__(self, colour, border_width, length, width):\n",
    "        super().__init__(colour, border_width)\n",
    "        self.length = length\n",
    "        self.width = width\n",
    "\n",
    "    def get_info(self):\n",
    "        info = super().get_info()\n",
    "        info += \" It has a length of {} and a width of {}.\".format(self.length, self.width)\n",
    "        return info\n",
    "\n",
    "\n",
    "class Circle(Shape):\n",
    "    def __init__(self, colour, border_width, radius):\n",
    "        super().__init__(colour, border_width)\n",
    "        self.radius = radius\n",
    "\n",
    "    def get_info(self):\n",
    "        info = super().get_info()\n",
    "        info += \" It has a radius of {}.\".format(self.radius)\n",
    "        return info\n",
    "\n",
    "\n",
    "rectangle = Rectangle(\"red\", 2, 10, 5)\n",
    "print(rectangle.get_info())\n",
    "\n",
    "circle = Circle(\"blue\", 1, 10)\n",
    "print(circle.get_info())\n",
    "\n",
    "\n",
    "\n",
    "# \"screen_size\" for the \"Phone\" class and \"battery_capacity\" for the \"Tablet\" class. \n",
    "# 10. Create a base class called \"BankAccount\" with attributes like \"account_number\" and \"balance.\" Derive two classes, \"SavingsAccount\" and \"CheckingAccount,\" from \"BankAccount.\" Add specific methods like \"calculate_interest\" for the \n",
    "# \"SavingsAccount\" class and \"deduct_fees\" for the \"CheckingAccount\" class."
   ]
  },
  {
   "cell_type": "code",
   "execution_count": 10,
   "id": "dbe30607-d824-471f-8503-8d9e5b553d60",
   "metadata": {},
   "outputs": [
    {
     "name": "stdout",
     "output_type": "stream",
     "text": [
      "This device is a Apple iPhone 13 Pro It has a screen size of 6.1 inches.\n",
      "This device is a Samsung Galaxy Tab S8 It has a battery capacity of 8000 mAh.\n"
     ]
    }
   ],
   "source": [
    "\"\"\"\n",
    "9. Create a base class called \"Device\" with attributes like \"brand\" and \"model.\" Derive two classes, \"Phone\" and \"Tablet,\" from \"Device.\" Add specific attributes like \n",
    "\"screen_size\" for the \"Phone\" class and \"battery_capacity\" for the \"Tablet\" class. \n",
    "\"\"\"\n",
    "class Device:\n",
    "    def __init__(self, brand, model):\n",
    "        self.brand = brand\n",
    "        self.model = model\n",
    "\n",
    "    def get_info(self):\n",
    "        return \"This device is a {} {}\".format(self.brand, self.model)\n",
    "\n",
    "\n",
    "class Phone(Device):\n",
    "    def __init__(self, brand, model, screen_size):\n",
    "        super().__init__(brand, model)\n",
    "        self.screen_size = screen_size\n",
    "\n",
    "    def get_info(self):\n",
    "        info = super().get_info()\n",
    "        info += \" It has a screen size of {} inches.\".format(self.screen_size)\n",
    "        return info\n",
    "\n",
    "\n",
    "class Tablet(Device):\n",
    "    def __init__(self, brand, model, battery_capacity):\n",
    "        super().__init__(brand, model)\n",
    "        self.battery_capacity = battery_capacity\n",
    "\n",
    "    def get_info(self):\n",
    "        info = super().get_info()\n",
    "        info += \" It has a battery capacity of {} mAh.\".format(self.battery_capacity)\n",
    "        return info\n",
    "\n",
    "\n",
    "phone = Phone(\"Apple\", \"iPhone 13 Pro\", 6.1)\n",
    "print(phone.get_info())\n",
    "\n",
    "tablet = Tablet(\"Samsung\", \"Galaxy Tab S8\", 8000)\n",
    "print(tablet.get_info())\n"
   ]
  },
  {
   "cell_type": "code",
   "execution_count": null,
   "id": "d07f5eaa-1fcb-4ad3-9a35-c5cdeecabb36",
   "metadata": {},
   "outputs": [],
   "source": []
  }
 ],
 "metadata": {
  "kernelspec": {
   "display_name": "Python 3 (ipykernel)",
   "language": "python",
   "name": "python3"
  },
  "language_info": {
   "codemirror_mode": {
    "name": "ipython",
    "version": 3
   },
   "file_extension": ".py",
   "mimetype": "text/x-python",
   "name": "python",
   "nbconvert_exporter": "python",
   "pygments_lexer": "ipython3",
   "version": "3.10.6"
  }
 },
 "nbformat": 4,
 "nbformat_minor": 5
}
